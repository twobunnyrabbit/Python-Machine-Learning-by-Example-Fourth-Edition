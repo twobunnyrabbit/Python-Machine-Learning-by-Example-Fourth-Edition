{
 "cells": [
  {
   "cell_type": "markdown",
   "id": "b5ae6ad5",
   "metadata": {},
   "source": [
    "\n",
    "Source codes for Python Machine Learning By Example 4th Edition (Packt Publishing)\n",
    "\n",
    "Chapter 2 Building A Movie Recommendation Engine with Naive Bayes\n",
    "\n",
    "Author: Yuxi (Hayden) Liu (yuxi.liu.ece@gmail.com)\n"
   ]
  },
  {
   "cell_type": "markdown",
   "id": "91a719d3",
   "metadata": {},
   "source": [
    "# Building a movie recommender with Naïve Bayes"
   ]
  },
  {
   "cell_type": "code",
   "execution_count": 1,
   "id": "b7e7e227",
   "metadata": {},
   "outputs": [],
   "source": [
    "import numpy as np\n",
    "import pandas as pd\n",
    "from pyhere import here"
   ]
  },
  {
   "cell_type": "code",
   "execution_count": 4,
   "id": "648d6524",
   "metadata": {},
   "outputs": [
    {
     "name": "stdout",
     "output_type": "stream",
     "text": [
      "File downloaded successfully and saved as /Users/vincent/Documents/Programming/python/Python-Machine-Learning-by-Example-Fourth-Edition/data\n"
     ]
    }
   ],
   "source": [
    "import requests\n",
    "import os\n",
    "\n",
    "def download_file(url, download_dir, filename):\n",
    "    \"\"\"\n",
    "    Downloads a file from a given URL and saves it to a specified directory.\n",
    "\n",
    "    Parameters:\n",
    "    url (str): The URL of the file to be downloaded.\n",
    "    download_dir (str): The directory where the file will be saved.\n",
    "    filename (str): The name of the file to be saved.\n",
    "\n",
    "    Returns:\n",
    "    None\n",
    "\n",
    "    Raises:\n",
    "    requests.exceptions.RequestException: If there is an error during the download process.\n",
    "\n",
    "    Example:\n",
    "    >>> download_file('https://example.com/file.zip', here('data'), 'file.zip')\n",
    "    File downloaded successfully and saved as here('data/file.zip')\n",
    "    \"\"\"    \n",
    "    try:\n",
    "        response = requests.get(url, stream=True)\n",
    "        response.raise_for_status()  # Check if the request was successful\n",
    "\n",
    "        # Ensure the data directory exists\n",
    "        # os.makedirs(os.path.dirname(destination), exist_ok=True)\n",
    "        os.makedirs(download_dir, exist_ok=True)\n",
    "        os.chdir(download_dir)\n",
    "\n",
    "        with open(filename, 'wb') as file:\n",
    "            for chunk in response.iter_content(chunk_size=8192):\n",
    "                file.write(chunk)\n",
    "        os.chdir(here(\".\"))\n",
    "        print(f\"File downloaded successfully and saved as {download_dir}\")\n",
    "\n",
    "    except requests.exceptions.RequestException as e:\n",
    "        print(f\"Error downloading file: {e}\")\n",
    "\n",
    "# URL of the file to download\n",
    "url = \"https://files.grouplens.org/datasets/movielens/ml-1m.zip\"\n",
    "filename = os.path.basename(url)\n",
    "download_dir = here(\"data\")\n",
    "\n",
    "# Download the file\n",
    "download_file(url, download_dir, filename)\n"
   ]
  },
  {
   "cell_type": "code",
   "execution_count": 5,
   "id": "d32d2b3a",
   "metadata": {},
   "outputs": [],
   "source": [
    "import zipfile\n",
    "\n",
    "def unzip_file(zip_file_path, extract_dir):\n",
    "    \"\"\"\n",
    "    Unzips a file to a specified directory.\n",
    "\n",
    "    Parameters:\n",
    "    zip_file_path (str): The path to the zip file to be unzipped.\n",
    "    extract_dir (str): The directory where the contents will be extracted.\n",
    "\n",
    "    Returns:\n",
    "    None\n",
    "\n",
    "    Raises:\n",
    "    zipfile.BadZipFile: If the zip file is corrupted or not a valid zip file.\n",
    "\n",
    "    Example:\n",
    "    >>> unzip_file(here('data/ml-1m.zip'), here('data'))\n",
    "    File unzipped successfully and extracted to here('data')\n",
    "    \"\"\"\n",
    "    try:\n",
    "       # Ensure the extract directory exists\n",
    "        os.makedirs(extract_dir, exist_ok=True)\n",
    "\n",
    "        with zipfile.ZipFile(zip_file_path, 'r') as zip_ref:\n",
    "            zip_ref.extractall(extract_dir)\n",
    "        print(f\"File unzipped successfully and extracted to {extract_dir}\")\n",
    "\n",
    "    except zipfile.BadZipFile as e:\n",
    "        print(f\"Error unzipping file: {e}\")\n",
    "\n",
    "# Path to the downloaded zip file\n",
    "# zip_file_path = os.path.join(download_dir, filename)\n",
    "# extract_dir = download_dir\n",
    "\n",
    "# Unzip the file\n",
    "# unzip_file(zip_file_path, extract_dir)"
   ]
  },
  {
   "cell_type": "code",
   "execution_count": 6,
   "id": "716cc1cf",
   "metadata": {},
   "outputs": [
    {
     "name": "stdout",
     "output_type": "stream",
     "text": [
      "File unzipped successfully and extracted to /Users/vincent/Documents/Programming/python/Python-Machine-Learning-by-Example-Fourth-Edition/data/ch02\n"
     ]
    }
   ],
   "source": [
    "unzip_file(here(download_dir, filename), here(download_dir, \"ch02\"))"
   ]
  },
  {
   "cell_type": "code",
   "execution_count": 7,
   "id": "4770650c",
   "metadata": {},
   "outputs": [
    {
     "name": "stdout",
     "output_type": "stream",
     "text": [
      "         user_id  movie_id  rating  timestamp\n",
      "0              1      1193       5  978300760\n",
      "1              1       661       3  978302109\n",
      "2              1       914       3  978301968\n",
      "3              1      3408       4  978300275\n",
      "4              1      2355       5  978824291\n",
      "...          ...       ...     ...        ...\n",
      "1000204     6040      1091       1  956716541\n",
      "1000205     6040      1094       5  956704887\n",
      "1000206     6040       562       5  956704746\n",
      "1000207     6040      1096       4  956715648\n",
      "1000208     6040      1097       4  956715569\n",
      "\n",
      "[1000209 rows x 4 columns]\n"
     ]
    }
   ],
   "source": [
    "data_path = here('data', 'ch02', 'ml-1m/ratings.dat')\n",
    "df = pd.read_csv(data_path, header=None, sep='::', engine='python')\n",
    "df.columns = ['user_id', 'movie_id', 'rating', 'timestamp']\n",
    "print(df)"
   ]
  },
  {
   "cell_type": "code",
   "execution_count": 14,
   "id": "96da1382",
   "metadata": {},
   "outputs": [
    {
     "name": "stdout",
     "output_type": "stream",
     "text": [
      "Number of users: 6040\n",
      "Number of movies: 3706\n"
     ]
    }
   ],
   "source": [
    "n_users = df['user_id'].nunique()\n",
    "n_movies = df['movie_id'].nunique()\n",
    "print(f\"Number of users: {n_users}\")\n",
    "print(f\"Number of movies: {n_movies}\")"
   ]
  },
  {
   "cell_type": "code",
   "execution_count": 17,
   "id": "345b6eeb",
   "metadata": {},
   "outputs": [
    {
     "name": "stdout",
     "output_type": "stream",
     "text": [
      "{'user_id': 6040, 'movie_id': 3706, 'rating': 5}\n"
     ]
    }
   ],
   "source": [
    "# Using functional programming to find the number of unique instances in a column\n",
    "unique_counts = {col: df[col].nunique() for col in ['user_id', 'movie_id', 'rating']}\n",
    "print(unique_counts)"
   ]
  },
  {
   "cell_type": "code",
   "execution_count": 19,
   "id": "27ef019c",
   "metadata": {},
   "outputs": [
    {
     "data": {
      "text/plain": [
       "rating\n",
       "1     56174\n",
       "2    107557\n",
       "3    261197\n",
       "4    348971\n",
       "5    226310\n",
       "Name: rating, dtype: int64"
      ]
     },
     "execution_count": null,
     "metadata": {},
     "output_type": "execute_result"
    }
   ],
   "source": [
    "df.groupby('rating')['rating'].count()"
   ]
  },
  {
   "cell_type": "code",
   "execution_count": 12,
   "id": "70f9e691",
   "metadata": {},
   "outputs": [
    {
     "data": {
      "text/plain": [
       "user_id\n",
       "4169    2314\n",
       "1680    1850\n",
       "4277    1743\n",
       "1941    1595\n",
       "1181    1521\n",
       "889     1518\n",
       "3618    1344\n",
       "2063    1323\n",
       "1150    1302\n",
       "1015    1286\n",
       "Name: rating, dtype: int64"
      ]
     },
     "execution_count": null,
     "metadata": {},
     "output_type": "execute_result"
    }
   ],
   "source": [
    "# How many movie ratings has each user given?\n",
    "df.groupby('user_id')['rating'].count().sort_values(ascending=False).head(10)"
   ]
  },
  {
   "cell_type": "markdown",
   "id": "1f9de4d4",
   "metadata": {},
   "source": [
    "The top 10 users with the most movie ratings."
   ]
  },
  {
   "cell_type": "code",
   "execution_count": 15,
   "id": "c5363b77",
   "metadata": {},
   "outputs": [],
   "source": [
    "def load_user_rating_data(df, n_users, n_movies):\n",
    "    data = np.zeros([n_users, n_movies], dtype=np.intc)\n",
    "    movie_id_mapping = {}\n",
    "    for user_id, movie_id, rating in zip(df['user_id'], df['movie_id'], df['rating']):\n",
    "        user_id = int(user_id) - 1\n",
    "        if movie_id not in movie_id_mapping:\n",
    "            movie_id_mapping[movie_id] = len(movie_id_mapping)\n",
    "        data[user_id, movie_id_mapping[movie_id]] = rating\n",
    "    return data, movie_id_mapping\n",
    "\n",
    "data, movie_id_mapping = load_user_rating_data(df, n_users, n_movies)"
   ]
  },
  {
   "cell_type": "markdown",
   "id": "fac8b87d",
   "metadata": {},
   "source": [
    "**Equivalent R function for above**\n",
    "\n",
    "```R\n",
    "load_user_rating_data <- function(df, n_users, n_movies) {\n",
    "  # Initialize the data matrix with zeros\n",
    "  data <- matrix(0, nrow = n_users, ncol = n_movies)\n",
    "\n",
    "  # Create a movie ID mapping\n",
    "  movie_id_mapping <- c()\n",
    "\n",
    "  # Iterate over the DataFrame rows\n",
    "  for (i in 1:nrow(df)) {\n",
    "    user_id <- df[i, \"user_id\"] - 1  # Adjust user_id to be zero-based\n",
    "    movie_id <- df[i, \"movie_id\"]\n",
    "    rating <- df[i, \"rating\"]\n",
    "\n",
    "    # Map movie_id to a new index if not already mapped\n",
    "    if (!(movie_id %in% names(movie_id_mapping))) {\n",
    "      movie_id_mapping[movie_id] <- length(movie_id_mapping)\n",
    "    }\n",
    "\n",
    "    # Populate the data matrix\n",
    "    data[user_id + 1, movie_id_mapping[movie_id] + 1] <- rating\n",
    "  }\n",
    "\n",
    "  # Return the data matrix and movie ID mapping\n",
    "  list(data = data, movie_id_mapping = movie_id_mapping)\n",
    "}\n",
    "```\n"
   ]
  },
  {
   "cell_type": "code",
   "execution_count": 16,
   "id": "8da1fe02",
   "metadata": {},
   "outputs": [
    {
     "name": "stdout",
     "output_type": "stream",
     "text": [
      "Number of rating 0: 21384031\n",
      "Number of rating 1: 56174\n",
      "Number of rating 2: 107557\n",
      "Number of rating 3: 261197\n",
      "Number of rating 4: 348971\n",
      "Number of rating 5: 226310\n"
     ]
    }
   ],
   "source": [
    "values, counts = np.unique(data, return_counts=True) \n",
    "for value, count in zip(values, counts): \n",
    "    print(f'Number of rating {value}: {count}') "
   ]
  },
  {
   "cell_type": "markdown",
   "id": "9b969b92",
   "metadata": {},
   "source": [
    "The '0' rating cames from np.zeroes(n_users, n_movies)."
   ]
  },
  {
   "cell_type": "code",
   "execution_count": 26,
   "id": "c8478bb8",
   "metadata": {},
   "outputs": [
    {
     "data": {
      "text/plain": [
       "array([[5, 0, 0, ..., 0, 0, 0]], shape=(1, 3706), dtype=int32)"
      ]
     },
     "execution_count": null,
     "metadata": {},
     "output_type": "execute_result"
    }
   ],
   "source": [
    "data[[1]]"
   ]
  },
  {
   "cell_type": "code",
   "execution_count": 20,
   "id": "b84e813e",
   "metadata": {},
   "outputs": [
    {
     "name": "stdout",
     "output_type": "stream",
     "text": [
      "movie_id\n",
      "2858    3428\n",
      "260     2991\n",
      "1196    2990\n",
      "1210    2883\n",
      "480     2672\n",
      "        ... \n",
      "872        1\n",
      "2703       1\n",
      "2845       1\n",
      "3607       1\n",
      "2909       1\n",
      "Name: count, Length: 3706, dtype: int64\n"
     ]
    }
   ],
   "source": [
    "print(df['movie_id'].value_counts())"
   ]
  },
  {
   "cell_type": "code",
   "execution_count": null,
   "id": "e899faf4",
   "metadata": {},
   "outputs": [
    {
     "name": "stdout",
     "output_type": "stream",
     "text": [
      "\n",
      "Shape of X: (3428, 3705)\n",
      "Shape of Y: (3428,)\n"
     ]
    }
   ],
   "source": [
    "target_movie_id = 2858\n",
    "X_raw = np.delete(data, movie_id_mapping[target_movie_id], axis=1)\n",
    "Y_raw = data[:, movie_id_mapping[target_movie_id]]\n",
    "\n",
    "X = X_raw[Y_raw > 0]\n",
    "Y = Y_raw[Y_raw > 0]\n",
    "\n",
    "print('Shape of X:', X.shape)\n",
    "print('Shape of Y:', Y.shape)\n"
   ]
  },
  {
   "cell_type": "code",
   "execution_count": 35,
   "id": "5045a6e6",
   "metadata": {},
   "outputs": [
    {
     "data": {
      "text/plain": [
       "array([[5, 0, 0, ..., 0, 0, 0],\n",
       "       [0, 0, 0, ..., 0, 0, 0],\n",
       "       [0, 0, 0, ..., 0, 0, 0],\n",
       "       ...,\n",
       "       [5, 0, 3, ..., 0, 0, 0],\n",
       "       [4, 0, 0, ..., 0, 0, 0],\n",
       "       [4, 0, 0, ..., 0, 0, 0]], shape=(3428, 3705), dtype=int32)"
      ]
     },
     "execution_count": null,
     "metadata": {},
     "output_type": "execute_result"
    }
   ],
   "source": [
    "X"
   ]
  },
  {
   "cell_type": "code",
   "execution_count": 39,
   "id": "929f6e36",
   "metadata": {},
   "outputs": [
    {
     "data": {
      "text/plain": [
       "array([0, 4, 4, ..., 0, 0, 4], shape=(6040,), dtype=int32)"
      ]
     },
     "execution_count": null,
     "metadata": {},
     "output_type": "execute_result"
    }
   ],
   "source": [
    "Y_raw"
   ]
  },
  {
   "cell_type": "code",
   "execution_count": 40,
   "id": "6f4f393a",
   "metadata": {},
   "outputs": [
    {
     "name": "stdout",
     "output_type": "stream",
     "text": [
      "2853 positive samples and 575 negative samples.\n"
     ]
    }
   ],
   "source": [
    "recommend = 3\n",
    "Y[Y <= recommend] = 0\n",
    "Y[Y > recommend] = 1\n",
    "\n",
    "n_pos = (Y == 1).sum()\n",
    "n_neg = (Y == 0).sum()\n",
    "print(f'{n_pos} positive samples and {n_neg} negative samples.')\n"
   ]
  },
  {
   "cell_type": "code",
   "execution_count": 41,
   "id": "f708ff97",
   "metadata": {},
   "outputs": [
    {
     "name": "stdout",
     "output_type": "stream",
     "text": [
      "2742 686\n"
     ]
    }
   ],
   "source": [
    "from sklearn.model_selection import train_test_split\n",
    "X_train, X_test, Y_train, Y_test = train_test_split(X, Y, test_size=0.2, random_state=42)\n",
    "print(len(Y_train), len(Y_test))"
   ]
  },
  {
   "cell_type": "code",
   "execution_count": null,
   "id": "f1ab7a86",
   "metadata": {},
   "outputs": [
    {
     "data": {
      "text/html": [
       "<style>#sk-container-id-1 {\n",
       "  /* Definition of color scheme common for light and dark mode */\n",
       "  --sklearn-color-text: #000;\n",
       "  --sklearn-color-text-muted: #666;\n",
       "  --sklearn-color-line: gray;\n",
       "  /* Definition of color scheme for unfitted estimators */\n",
       "  --sklearn-color-unfitted-level-0: #fff5e6;\n",
       "  --sklearn-color-unfitted-level-1: #f6e4d2;\n",
       "  --sklearn-color-unfitted-level-2: #ffe0b3;\n",
       "  --sklearn-color-unfitted-level-3: chocolate;\n",
       "  /* Definition of color scheme for fitted estimators */\n",
       "  --sklearn-color-fitted-level-0: #f0f8ff;\n",
       "  --sklearn-color-fitted-level-1: #d4ebff;\n",
       "  --sklearn-color-fitted-level-2: #b3dbfd;\n",
       "  --sklearn-color-fitted-level-3: cornflowerblue;\n",
       "\n",
       "  /* Specific color for light theme */\n",
       "  --sklearn-color-text-on-default-background: var(--sg-text-color, var(--theme-code-foreground, var(--jp-content-font-color1, black)));\n",
       "  --sklearn-color-background: var(--sg-background-color, var(--theme-background, var(--jp-layout-color0, white)));\n",
       "  --sklearn-color-border-box: var(--sg-text-color, var(--theme-code-foreground, var(--jp-content-font-color1, black)));\n",
       "  --sklearn-color-icon: #696969;\n",
       "\n",
       "  @media (prefers-color-scheme: dark) {\n",
       "    /* Redefinition of color scheme for dark theme */\n",
       "    --sklearn-color-text-on-default-background: var(--sg-text-color, var(--theme-code-foreground, var(--jp-content-font-color1, white)));\n",
       "    --sklearn-color-background: var(--sg-background-color, var(--theme-background, var(--jp-layout-color0, #111)));\n",
       "    --sklearn-color-border-box: var(--sg-text-color, var(--theme-code-foreground, var(--jp-content-font-color1, white)));\n",
       "    --sklearn-color-icon: #878787;\n",
       "  }\n",
       "}\n",
       "\n",
       "#sk-container-id-1 {\n",
       "  color: var(--sklearn-color-text);\n",
       "}\n",
       "\n",
       "#sk-container-id-1 pre {\n",
       "  padding: 0;\n",
       "}\n",
       "\n",
       "#sk-container-id-1 input.sk-hidden--visually {\n",
       "  border: 0;\n",
       "  clip: rect(1px 1px 1px 1px);\n",
       "  clip: rect(1px, 1px, 1px, 1px);\n",
       "  height: 1px;\n",
       "  margin: -1px;\n",
       "  overflow: hidden;\n",
       "  padding: 0;\n",
       "  position: absolute;\n",
       "  width: 1px;\n",
       "}\n",
       "\n",
       "#sk-container-id-1 div.sk-dashed-wrapped {\n",
       "  border: 1px dashed var(--sklearn-color-line);\n",
       "  margin: 0 0.4em 0.5em 0.4em;\n",
       "  box-sizing: border-box;\n",
       "  padding-bottom: 0.4em;\n",
       "  background-color: var(--sklearn-color-background);\n",
       "}\n",
       "\n",
       "#sk-container-id-1 div.sk-container {\n",
       "  /* jupyter's `normalize.less` sets `[hidden] { display: none; }`\n",
       "     but bootstrap.min.css set `[hidden] { display: none !important; }`\n",
       "     so we also need the `!important` here to be able to override the\n",
       "     default hidden behavior on the sphinx rendered scikit-learn.org.\n",
       "     See: https://github.com/scikit-learn/scikit-learn/issues/21755 */\n",
       "  display: inline-block !important;\n",
       "  position: relative;\n",
       "}\n",
       "\n",
       "#sk-container-id-1 div.sk-text-repr-fallback {\n",
       "  display: none;\n",
       "}\n",
       "\n",
       "div.sk-parallel-item,\n",
       "div.sk-serial,\n",
       "div.sk-item {\n",
       "  /* draw centered vertical line to link estimators */\n",
       "  background-image: linear-gradient(var(--sklearn-color-text-on-default-background), var(--sklearn-color-text-on-default-background));\n",
       "  background-size: 2px 100%;\n",
       "  background-repeat: no-repeat;\n",
       "  background-position: center center;\n",
       "}\n",
       "\n",
       "/* Parallel-specific style estimator block */\n",
       "\n",
       "#sk-container-id-1 div.sk-parallel-item::after {\n",
       "  content: \"\";\n",
       "  width: 100%;\n",
       "  border-bottom: 2px solid var(--sklearn-color-text-on-default-background);\n",
       "  flex-grow: 1;\n",
       "}\n",
       "\n",
       "#sk-container-id-1 div.sk-parallel {\n",
       "  display: flex;\n",
       "  align-items: stretch;\n",
       "  justify-content: center;\n",
       "  background-color: var(--sklearn-color-background);\n",
       "  position: relative;\n",
       "}\n",
       "\n",
       "#sk-container-id-1 div.sk-parallel-item {\n",
       "  display: flex;\n",
       "  flex-direction: column;\n",
       "}\n",
       "\n",
       "#sk-container-id-1 div.sk-parallel-item:first-child::after {\n",
       "  align-self: flex-end;\n",
       "  width: 50%;\n",
       "}\n",
       "\n",
       "#sk-container-id-1 div.sk-parallel-item:last-child::after {\n",
       "  align-self: flex-start;\n",
       "  width: 50%;\n",
       "}\n",
       "\n",
       "#sk-container-id-1 div.sk-parallel-item:only-child::after {\n",
       "  width: 0;\n",
       "}\n",
       "\n",
       "/* Serial-specific style estimator block */\n",
       "\n",
       "#sk-container-id-1 div.sk-serial {\n",
       "  display: flex;\n",
       "  flex-direction: column;\n",
       "  align-items: center;\n",
       "  background-color: var(--sklearn-color-background);\n",
       "  padding-right: 1em;\n",
       "  padding-left: 1em;\n",
       "}\n",
       "\n",
       "\n",
       "/* Toggleable style: style used for estimator/Pipeline/ColumnTransformer box that is\n",
       "clickable and can be expanded/collapsed.\n",
       "- Pipeline and ColumnTransformer use this feature and define the default style\n",
       "- Estimators will overwrite some part of the style using the `sk-estimator` class\n",
       "*/\n",
       "\n",
       "/* Pipeline and ColumnTransformer style (default) */\n",
       "\n",
       "#sk-container-id-1 div.sk-toggleable {\n",
       "  /* Default theme specific background. It is overwritten whether we have a\n",
       "  specific estimator or a Pipeline/ColumnTransformer */\n",
       "  background-color: var(--sklearn-color-background);\n",
       "}\n",
       "\n",
       "/* Toggleable label */\n",
       "#sk-container-id-1 label.sk-toggleable__label {\n",
       "  cursor: pointer;\n",
       "  display: flex;\n",
       "  width: 100%;\n",
       "  margin-bottom: 0;\n",
       "  padding: 0.5em;\n",
       "  box-sizing: border-box;\n",
       "  text-align: center;\n",
       "  align-items: start;\n",
       "  justify-content: space-between;\n",
       "  gap: 0.5em;\n",
       "}\n",
       "\n",
       "#sk-container-id-1 label.sk-toggleable__label .caption {\n",
       "  font-size: 0.6rem;\n",
       "  font-weight: lighter;\n",
       "  color: var(--sklearn-color-text-muted);\n",
       "}\n",
       "\n",
       "#sk-container-id-1 label.sk-toggleable__label-arrow:before {\n",
       "  /* Arrow on the left of the label */\n",
       "  content: \"▸\";\n",
       "  float: left;\n",
       "  margin-right: 0.25em;\n",
       "  color: var(--sklearn-color-icon);\n",
       "}\n",
       "\n",
       "#sk-container-id-1 label.sk-toggleable__label-arrow:hover:before {\n",
       "  color: var(--sklearn-color-text);\n",
       "}\n",
       "\n",
       "/* Toggleable content - dropdown */\n",
       "\n",
       "#sk-container-id-1 div.sk-toggleable__content {\n",
       "  max-height: 0;\n",
       "  max-width: 0;\n",
       "  overflow: hidden;\n",
       "  text-align: left;\n",
       "  /* unfitted */\n",
       "  background-color: var(--sklearn-color-unfitted-level-0);\n",
       "}\n",
       "\n",
       "#sk-container-id-1 div.sk-toggleable__content.fitted {\n",
       "  /* fitted */\n",
       "  background-color: var(--sklearn-color-fitted-level-0);\n",
       "}\n",
       "\n",
       "#sk-container-id-1 div.sk-toggleable__content pre {\n",
       "  margin: 0.2em;\n",
       "  border-radius: 0.25em;\n",
       "  color: var(--sklearn-color-text);\n",
       "  /* unfitted */\n",
       "  background-color: var(--sklearn-color-unfitted-level-0);\n",
       "}\n",
       "\n",
       "#sk-container-id-1 div.sk-toggleable__content.fitted pre {\n",
       "  /* unfitted */\n",
       "  background-color: var(--sklearn-color-fitted-level-0);\n",
       "}\n",
       "\n",
       "#sk-container-id-1 input.sk-toggleable__control:checked~div.sk-toggleable__content {\n",
       "  /* Expand drop-down */\n",
       "  max-height: 200px;\n",
       "  max-width: 100%;\n",
       "  overflow: auto;\n",
       "}\n",
       "\n",
       "#sk-container-id-1 input.sk-toggleable__control:checked~label.sk-toggleable__label-arrow:before {\n",
       "  content: \"▾\";\n",
       "}\n",
       "\n",
       "/* Pipeline/ColumnTransformer-specific style */\n",
       "\n",
       "#sk-container-id-1 div.sk-label input.sk-toggleable__control:checked~label.sk-toggleable__label {\n",
       "  color: var(--sklearn-color-text);\n",
       "  background-color: var(--sklearn-color-unfitted-level-2);\n",
       "}\n",
       "\n",
       "#sk-container-id-1 div.sk-label.fitted input.sk-toggleable__control:checked~label.sk-toggleable__label {\n",
       "  background-color: var(--sklearn-color-fitted-level-2);\n",
       "}\n",
       "\n",
       "/* Estimator-specific style */\n",
       "\n",
       "/* Colorize estimator box */\n",
       "#sk-container-id-1 div.sk-estimator input.sk-toggleable__control:checked~label.sk-toggleable__label {\n",
       "  /* unfitted */\n",
       "  background-color: var(--sklearn-color-unfitted-level-2);\n",
       "}\n",
       "\n",
       "#sk-container-id-1 div.sk-estimator.fitted input.sk-toggleable__control:checked~label.sk-toggleable__label {\n",
       "  /* fitted */\n",
       "  background-color: var(--sklearn-color-fitted-level-2);\n",
       "}\n",
       "\n",
       "#sk-container-id-1 div.sk-label label.sk-toggleable__label,\n",
       "#sk-container-id-1 div.sk-label label {\n",
       "  /* The background is the default theme color */\n",
       "  color: var(--sklearn-color-text-on-default-background);\n",
       "}\n",
       "\n",
       "/* On hover, darken the color of the background */\n",
       "#sk-container-id-1 div.sk-label:hover label.sk-toggleable__label {\n",
       "  color: var(--sklearn-color-text);\n",
       "  background-color: var(--sklearn-color-unfitted-level-2);\n",
       "}\n",
       "\n",
       "/* Label box, darken color on hover, fitted */\n",
       "#sk-container-id-1 div.sk-label.fitted:hover label.sk-toggleable__label.fitted {\n",
       "  color: var(--sklearn-color-text);\n",
       "  background-color: var(--sklearn-color-fitted-level-2);\n",
       "}\n",
       "\n",
       "/* Estimator label */\n",
       "\n",
       "#sk-container-id-1 div.sk-label label {\n",
       "  font-family: monospace;\n",
       "  font-weight: bold;\n",
       "  display: inline-block;\n",
       "  line-height: 1.2em;\n",
       "}\n",
       "\n",
       "#sk-container-id-1 div.sk-label-container {\n",
       "  text-align: center;\n",
       "}\n",
       "\n",
       "/* Estimator-specific */\n",
       "#sk-container-id-1 div.sk-estimator {\n",
       "  font-family: monospace;\n",
       "  border: 1px dotted var(--sklearn-color-border-box);\n",
       "  border-radius: 0.25em;\n",
       "  box-sizing: border-box;\n",
       "  margin-bottom: 0.5em;\n",
       "  /* unfitted */\n",
       "  background-color: var(--sklearn-color-unfitted-level-0);\n",
       "}\n",
       "\n",
       "#sk-container-id-1 div.sk-estimator.fitted {\n",
       "  /* fitted */\n",
       "  background-color: var(--sklearn-color-fitted-level-0);\n",
       "}\n",
       "\n",
       "/* on hover */\n",
       "#sk-container-id-1 div.sk-estimator:hover {\n",
       "  /* unfitted */\n",
       "  background-color: var(--sklearn-color-unfitted-level-2);\n",
       "}\n",
       "\n",
       "#sk-container-id-1 div.sk-estimator.fitted:hover {\n",
       "  /* fitted */\n",
       "  background-color: var(--sklearn-color-fitted-level-2);\n",
       "}\n",
       "\n",
       "/* Specification for estimator info (e.g. \"i\" and \"?\") */\n",
       "\n",
       "/* Common style for \"i\" and \"?\" */\n",
       "\n",
       ".sk-estimator-doc-link,\n",
       "a:link.sk-estimator-doc-link,\n",
       "a:visited.sk-estimator-doc-link {\n",
       "  float: right;\n",
       "  font-size: smaller;\n",
       "  line-height: 1em;\n",
       "  font-family: monospace;\n",
       "  background-color: var(--sklearn-color-background);\n",
       "  border-radius: 1em;\n",
       "  height: 1em;\n",
       "  width: 1em;\n",
       "  text-decoration: none !important;\n",
       "  margin-left: 0.5em;\n",
       "  text-align: center;\n",
       "  /* unfitted */\n",
       "  border: var(--sklearn-color-unfitted-level-1) 1pt solid;\n",
       "  color: var(--sklearn-color-unfitted-level-1);\n",
       "}\n",
       "\n",
       ".sk-estimator-doc-link.fitted,\n",
       "a:link.sk-estimator-doc-link.fitted,\n",
       "a:visited.sk-estimator-doc-link.fitted {\n",
       "  /* fitted */\n",
       "  border: var(--sklearn-color-fitted-level-1) 1pt solid;\n",
       "  color: var(--sklearn-color-fitted-level-1);\n",
       "}\n",
       "\n",
       "/* On hover */\n",
       "div.sk-estimator:hover .sk-estimator-doc-link:hover,\n",
       ".sk-estimator-doc-link:hover,\n",
       "div.sk-label-container:hover .sk-estimator-doc-link:hover,\n",
       ".sk-estimator-doc-link:hover {\n",
       "  /* unfitted */\n",
       "  background-color: var(--sklearn-color-unfitted-level-3);\n",
       "  color: var(--sklearn-color-background);\n",
       "  text-decoration: none;\n",
       "}\n",
       "\n",
       "div.sk-estimator.fitted:hover .sk-estimator-doc-link.fitted:hover,\n",
       ".sk-estimator-doc-link.fitted:hover,\n",
       "div.sk-label-container:hover .sk-estimator-doc-link.fitted:hover,\n",
       ".sk-estimator-doc-link.fitted:hover {\n",
       "  /* fitted */\n",
       "  background-color: var(--sklearn-color-fitted-level-3);\n",
       "  color: var(--sklearn-color-background);\n",
       "  text-decoration: none;\n",
       "}\n",
       "\n",
       "/* Span, style for the box shown on hovering the info icon */\n",
       ".sk-estimator-doc-link span {\n",
       "  display: none;\n",
       "  z-index: 9999;\n",
       "  position: relative;\n",
       "  font-weight: normal;\n",
       "  right: .2ex;\n",
       "  padding: .5ex;\n",
       "  margin: .5ex;\n",
       "  width: min-content;\n",
       "  min-width: 20ex;\n",
       "  max-width: 50ex;\n",
       "  color: var(--sklearn-color-text);\n",
       "  box-shadow: 2pt 2pt 4pt #999;\n",
       "  /* unfitted */\n",
       "  background: var(--sklearn-color-unfitted-level-0);\n",
       "  border: .5pt solid var(--sklearn-color-unfitted-level-3);\n",
       "}\n",
       "\n",
       ".sk-estimator-doc-link.fitted span {\n",
       "  /* fitted */\n",
       "  background: var(--sklearn-color-fitted-level-0);\n",
       "  border: var(--sklearn-color-fitted-level-3);\n",
       "}\n",
       "\n",
       ".sk-estimator-doc-link:hover span {\n",
       "  display: block;\n",
       "}\n",
       "\n",
       "/* \"?\"-specific style due to the `<a>` HTML tag */\n",
       "\n",
       "#sk-container-id-1 a.estimator_doc_link {\n",
       "  float: right;\n",
       "  font-size: 1rem;\n",
       "  line-height: 1em;\n",
       "  font-family: monospace;\n",
       "  background-color: var(--sklearn-color-background);\n",
       "  border-radius: 1rem;\n",
       "  height: 1rem;\n",
       "  width: 1rem;\n",
       "  text-decoration: none;\n",
       "  /* unfitted */\n",
       "  color: var(--sklearn-color-unfitted-level-1);\n",
       "  border: var(--sklearn-color-unfitted-level-1) 1pt solid;\n",
       "}\n",
       "\n",
       "#sk-container-id-1 a.estimator_doc_link.fitted {\n",
       "  /* fitted */\n",
       "  border: var(--sklearn-color-fitted-level-1) 1pt solid;\n",
       "  color: var(--sklearn-color-fitted-level-1);\n",
       "}\n",
       "\n",
       "/* On hover */\n",
       "#sk-container-id-1 a.estimator_doc_link:hover {\n",
       "  /* unfitted */\n",
       "  background-color: var(--sklearn-color-unfitted-level-3);\n",
       "  color: var(--sklearn-color-background);\n",
       "  text-decoration: none;\n",
       "}\n",
       "\n",
       "#sk-container-id-1 a.estimator_doc_link.fitted:hover {\n",
       "  /* fitted */\n",
       "  background-color: var(--sklearn-color-fitted-level-3);\n",
       "}\n",
       "</style><div id=\"sk-container-id-1\" class=\"sk-top-container\"><div class=\"sk-text-repr-fallback\"><pre>MultinomialNB()</pre><b>In a Jupyter environment, please rerun this cell to show the HTML representation or trust the notebook. <br />On GitHub, the HTML representation is unable to render, please try loading this page with nbviewer.org.</b></div><div class=\"sk-container\" hidden><div class=\"sk-item\"><div class=\"sk-estimator fitted sk-toggleable\"><input class=\"sk-toggleable__control sk-hidden--visually\" id=\"sk-estimator-id-1\" type=\"checkbox\" checked><label for=\"sk-estimator-id-1\" class=\"sk-toggleable__label fitted sk-toggleable__label-arrow\"><div><div>MultinomialNB</div></div><div><a class=\"sk-estimator-doc-link fitted\" rel=\"noreferrer\" target=\"_blank\" href=\"https://scikit-learn.org/1.6/modules/generated/sklearn.naive_bayes.MultinomialNB.html\">?<span>Documentation for MultinomialNB</span></a><span class=\"sk-estimator-doc-link fitted\">i<span>Fitted</span></span></div></label><div class=\"sk-toggleable__content fitted\"><pre>MultinomialNB()</pre></div> </div></div></div></div>"
      ],
      "text/plain": [
       "MultinomialNB()"
      ]
     },
     "execution_count": null,
     "metadata": {},
     "output_type": "execute_result"
    }
   ],
   "source": [
    "from sklearn.naive_bayes import MultinomialNB\n",
    "clf = MultinomialNB(alpha=1.0, fit_prior=True)\n",
    "clf.fit(X_train, Y_train)\n"
   ]
  },
  {
   "cell_type": "markdown",
   "id": "acf998c9",
   "metadata": {},
   "source": [
    "`clf` is the trained Multinomial Naive Bayes classifer that can be used to make predictions on new data."
   ]
  },
  {
   "cell_type": "code",
   "execution_count": 43,
   "id": "3b8359dc",
   "metadata": {},
   "outputs": [
    {
     "name": "stdout",
     "output_type": "stream",
     "text": [
      "[[7.50487439e-23 1.00000000e+00]\n",
      " [1.01806208e-01 8.98193792e-01]\n",
      " [3.57740570e-10 1.00000000e+00]\n",
      " [1.00000000e+00 2.94095407e-16]\n",
      " [1.00000000e+00 2.49760836e-25]\n",
      " [7.62630220e-01 2.37369780e-01]\n",
      " [3.47479627e-05 9.99965252e-01]\n",
      " [2.66075292e-11 1.00000000e+00]\n",
      " [5.88493563e-10 9.99999999e-01]\n",
      " [9.71326867e-09 9.99999990e-01]]\n",
      "[1 1 1 0 0 0 1 1 1 1]\n",
      "The accuracy is: 71.6%\n"
     ]
    }
   ],
   "source": [
    "prediction_prob = clf.predict_proba(X_test)\n",
    "print(prediction_prob[0:10])\n",
    "\n",
    "prediction = clf.predict(X_test)\n",
    "print(prediction[:10])\n",
    "\n",
    "accuracy = clf.score(X_test, Y_test)\n",
    "print(f'The accuracy is: {accuracy*100:.1f}%')\n"
   ]
  },
  {
   "cell_type": "markdown",
   "id": "b26040ab",
   "metadata": {},
   "source": [
    "For `prediction_prob` the first value is prediction for class 0 and second value is prediction for class 1."
   ]
  },
  {
   "cell_type": "markdown",
   "id": "f4d954c5",
   "metadata": {},
   "source": [
    "# Evaluating classification performance"
   ]
  },
  {
   "cell_type": "code",
   "execution_count": 73,
   "id": "bbe12187",
   "metadata": {},
   "outputs": [
    {
     "name": "stdout",
     "output_type": "stream",
     "text": [
      "[[ 60  47]\n",
      " [148 431]]\n"
     ]
    }
   ],
   "source": [
    "from sklearn.metrics import confusion_matrix\n",
    "print(confusion_matrix(Y_test, prediction, labels=[0, 1]))"
   ]
  },
  {
   "cell_type": "markdown",
   "id": "fb01f267",
   "metadata": {},
   "source": [
    "|  <i></i>             | Predicted Negative | Predicted Positive |\n",
    "|---------------|-------------------|--------------------|\n",
    "| Actual Negative | True Negative (TN) 60 | False Positive (FP) 47 |\n",
    "| Actual Positive | False Negative (FN) 148 | True Positive (TP) 431 |\n"
   ]
  },
  {
   "cell_type": "code",
   "execution_count": 86,
   "id": "bab8d731",
   "metadata": {},
   "outputs": [
    {
     "data": {
      "text/plain": [
       "0.9016736401673641"
      ]
     },
     "execution_count": null,
     "metadata": {},
     "output_type": "execute_result"
    }
   ],
   "source": [
    "from sklearn.metrics import precision_score, recall_score, f1_score\n",
    "\n",
    "precision_score(Y_test, prediction, pos_label=1)"
   ]
  },
  {
   "cell_type": "markdown",
   "id": "18b48bed",
   "metadata": {},
   "source": [
    "Precision is the fraction of true positives out of all positive predictions. It is also known as positive predictive value."
   ]
  },
  {
   "cell_type": "code",
   "execution_count": 87,
   "id": "3c079d2c",
   "metadata": {},
   "outputs": [
    {
     "data": {
      "text/plain": [
       "0.7443868739205527"
      ]
     },
     "execution_count": null,
     "metadata": {},
     "output_type": "execute_result"
    }
   ],
   "source": [
    "recall_score(Y_test, prediction, pos_label=1)"
   ]
  },
  {
   "cell_type": "markdown",
   "id": "b46b1527",
   "metadata": {},
   "source": [
    "Recall is is the fraction of true positives out of all actual positives. It is also known as sensitivity or true positive rate."
   ]
  },
  {
   "cell_type": "code",
   "execution_count": 88,
   "id": "03ff4dbf",
   "metadata": {},
   "outputs": [
    {
     "data": {
      "text/plain": [
       "0.815515610217597"
      ]
     },
     "execution_count": null,
     "metadata": {},
     "output_type": "execute_result"
    }
   ],
   "source": [
    "f1_score(Y_test, prediction, pos_label=1)"
   ]
  },
  {
   "cell_type": "code",
   "execution_count": 89,
   "id": "be482ea6",
   "metadata": {},
   "outputs": [
    {
     "data": {
      "text/plain": [
       "0.38095238095238093"
      ]
     },
     "execution_count": null,
     "metadata": {},
     "output_type": "execute_result"
    }
   ],
   "source": [
    "f1_score(Y_test, prediction, pos_label=0) "
   ]
  },
  {
   "cell_type": "markdown",
   "id": "659d64fa",
   "metadata": {},
   "source": [
    "The f1 score comprehensively includes both the precision and the recall and equates to their harmonic mean:\n",
    "$$\n",
    "f_1 = 2 \\cdot \\frac{\\text{precision} \\cdot \\text{recall}}{\\text{precision} + \\text{recall}}\n",
    "$$"
   ]
  },
  {
   "cell_type": "code",
   "execution_count": 90,
   "id": "e89371bf",
   "metadata": {},
   "outputs": [
    {
     "name": "stdout",
     "output_type": "stream",
     "text": [
      "              precision    recall  f1-score   support\n",
      "\n",
      "           0       0.29      0.56      0.38       107\n",
      "           1       0.90      0.74      0.82       579\n",
      "\n",
      "    accuracy                           0.72       686\n",
      "   macro avg       0.60      0.65      0.60       686\n",
      "weighted avg       0.81      0.72      0.75       686\n",
      "\n"
     ]
    }
   ],
   "source": [
    "from sklearn.metrics import classification_report\n",
    "report = classification_report(Y_test, prediction)\n",
    "print(report)"
   ]
  },
  {
   "cell_type": "code",
   "execution_count": 91,
   "id": "d00e3b9f",
   "metadata": {},
   "outputs": [],
   "source": [
    "pos_prob = prediction_prob[:, 1]\n",
    "\n",
    "thresholds = np.arange(0.0, 1.1, 0.05)\n",
    "true_pos, false_pos = [0]*len(thresholds), [0]*len(thresholds)\n",
    "for pred, y in zip(pos_prob, Y_test):\n",
    "    for i, threshold in enumerate(thresholds):\n",
    "        if pred >= threshold:\n",
    "            if y == 1:\n",
    "                true_pos[i] += 1\n",
    "            else:\n",
    "                false_pos[i] += 1\n",
    "        else:\n",
    "            break\n",
    "\n",
    "n_pos_test = (Y_test == 1).sum()\n",
    "n_neg_test = (Y_test == 0).sum()\n",
    "true_pos_rate = [tp / n_pos_test for tp in true_pos]\n",
    "false_pos_rate = [fp / n_neg_test for fp in false_pos]\n"
   ]
  },
  {
   "cell_type": "code",
   "execution_count": 92,
   "id": "1c046164",
   "metadata": {},
   "outputs": [
    {
     "name": "stderr",
     "output_type": "stream",
     "text": [
      "<positron-console-cell-92>:11: UserWarning: No artists with labels found to put in legend.  Note that artists whose label start with an underscore are ignored when legend() is called with no argument.\n"
     ]
    },
    {
     "data": {
      "image/png": "[encoded data removed]",
      "text/plain": [
       "<Figure size 640x480 with 1 Axes>"
      ]
     },
     "metadata": {},
     "output_type": "display_data"
    }
   ],
   "source": [
    "import matplotlib.pyplot as plt\n",
    "plt.figure()\n",
    "lw = 2\n",
    "plt.plot(false_pos_rate, true_pos_rate, color='darkorange', lw=lw)\n",
    "plt.plot([0, 1], [0, 1], color='navy', lw=lw, linestyle='--')\n",
    "plt.xlim([0.0, 1.0])\n",
    "plt.ylim([0.0, 1.05])\n",
    "plt.xlabel('False Positive Rate')\n",
    "plt.ylabel('True Positive Rate')\n",
    "plt.title('Receiver Operating Characteristic')\n",
    "plt.legend(loc=\"lower right\")\n",
    "plt.show()"
   ]
  },
  {
   "cell_type": "code",
   "execution_count": 93,
   "id": "b5666f7e",
   "metadata": {},
   "outputs": [
    {
     "name": "stdout",
     "output_type": "stream",
     "text": [
      "0.6857375752586637\n"
     ]
    }
   ],
   "source": [
    "from sklearn.metrics import roc_auc_score\n",
    "print(roc_auc_score(Y_test, pos_prob))"
   ]
  },
  {
   "cell_type": "markdown",
   "id": "7eb61690",
   "metadata": {},
   "source": [
    "# Tuning models with cross-validation"
   ]
  },
  {
   "cell_type": "code",
   "execution_count": 21,
   "id": "0b2f00d4",
   "metadata": {},
   "outputs": [
    {
     "name": "stdout",
     "output_type": "stream",
     "text": [
      "smoothing  fit prior  auc\n",
      "    1        True    0.65647\n",
      "    1        False    0.65708\n",
      "    2        True    0.65795\n",
      "    2        False    0.65823\n",
      "    3        True    0.65740\n",
      "    3        False    0.65801\n",
      "    4        True    0.65808\n",
      "    4        False    0.65795\n",
      "    5        True    0.65814\n",
      "    5        False    0.65694\n",
      "    6        True    0.65663\n",
      "    6        False    0.65719\n"
     ]
    }
   ],
   "source": [
    "from sklearn.model_selection import StratifiedKFold\n",
    "k = 5\n",
    "k_fold = StratifiedKFold(n_splits=k, random_state=42)\n",
    "\n",
    "smoothing_factor_option = [1, 2, 3, 4, 5, 6]\n",
    "fit_prior_option = [True, False]\n",
    "auc_record = {}\n",
    "\n",
    "for train_indices, test_indices in k_fold.split(X, Y):\n",
    "    X_train_k, X_test_k = X[train_indices], X[test_indices]\n",
    "    Y_train_k, Y_test_k = Y[train_indices], Y[test_indices]\n",
    "    for alpha in smoothing_factor_option:\n",
    "        if alpha not in auc_record:\n",
    "            auc_record[alpha] = {}\n",
    "        for fit_prior in fit_prior_option:\n",
    "            clf = MultinomialNB(alpha=alpha, fit_prior=fit_prior)\n",
    "            clf.fit(X_train_k, Y_train_k)\n",
    "            prediction_prob = clf.predict_proba(X_test_k)\n",
    "            pos_prob = prediction_prob[:, 1]\n",
    "            auc = roc_auc_score(Y_test_k, pos_prob)\n",
    "            auc_record[alpha][fit_prior] = auc + auc_record[alpha].get(fit_prior, 0.0)\n",
    "\n",
    "\n",
    "print('smoothing  fit prior  auc')\n",
    "for smoothing, smoothing_record in auc_record.items():\n",
    "    for fit_prior, auc in smoothing_record.items():\n",
    "        print(f'    {smoothing}        {fit_prior}    {auc/k:.5f}')\n"
   ]
  },
  {
   "cell_type": "code",
   "execution_count": 22,
   "id": "c1254b83",
   "metadata": {},
   "outputs": [
    {
     "name": "stdout",
     "output_type": "stream",
     "text": [
      "AUC with the best model: 0.6862056720417091\n"
     ]
    }
   ],
   "source": [
    "clf = MultinomialNB(alpha=2.0, fit_prior=False)\n",
    "clf.fit(X_train, Y_train)\n",
    "\n",
    "pos_prob = clf.predict_proba(X_test)[:, 1]\n",
    "print('AUC with the best model:', roc_auc_score(Y_test, pos_prob))"
   ]
  },
  {
   "cell_type": "markdown",
   "id": "2824a89c",
   "metadata": {},
   "source": [
    "---"
   ]
  },
  {
   "cell_type": "markdown",
   "id": "0a874e66",
   "metadata": {},
   "source": [
    "Readers may ignore the next cell."
   ]
  },
  {
   "cell_type": "code",
   "execution_count": 23,
   "id": "61507db3",
   "metadata": {},
   "outputs": [
    {
     "name": "stderr",
     "output_type": "stream",
     "text": [
      "[NbConvertApp] Converting notebook ch2_part2.ipynb to python\n",
      "[NbConvertApp] Writing 5571 bytes to ch2_part2.py\n"
     ]
    }
   ],
   "source": [
    "!jupyter nbconvert --to python ch2_part2.ipynb --TemplateExporter.exclude_input_prompt=True"
   ]
  }
 ],
 "metadata": {
  "kernelspec": {
   "display_name": "Python 3 (ipykernel)",
   "language": "python",
   "name": "python3"
  },
  "language_info": {
   "name": "python"
  }
 },
 "nbformat": 4,
 "nbformat_minor": 5
}
