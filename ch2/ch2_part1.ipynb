{
 "cells": [
  {
   "cell_type": "markdown",
   "id": "38c139cd",
   "metadata": {},
   "source": [
    "\n",
    "Source codes for Python Machine Learning By Example 4th Edition (Packt Publishing)\n",
    "\n",
    "Chapter 2 Building A Movie Recommendation Engine with Naive Bayes\n",
    "\n",
    "Author: Yuxi (Hayden) Liu (yuxi.liu.ece@gmail.com)\n",
    "\n",
    "\n"
   ]
  },
  {
   "cell_type": "markdown",
   "id": "6740371d",
   "metadata": {},
   "source": [
    "# Implementing Naïve Bayes "
   ]
  },
  {
   "cell_type": "markdown",
   "id": "33286ee5",
   "metadata": {},
   "source": [
    "## Implementing Naïve Bayes from scratch"
   ]
  },
  {
   "cell_type": "code",
   "execution_count": 1,
   "id": "88605dbc",
   "metadata": {},
   "outputs": [],
   "source": [
    "import numpy as np\n"
   ]
  },
  {
   "cell_type": "code",
   "execution_count": 2,
   "id": "e6695e41",
   "metadata": {},
   "outputs": [],
   "source": [
    "X_train = np.array([\n",
    "    [0, 1, 1],\n",
    "    [0, 0, 1],\n",
    "    [0, 0, 0],\n",
    "    [1, 1, 0]])\n",
    "\n",
    "Y_train = ['Y', 'N', 'Y', 'Y']\n",
    "\n",
    "X_test = np.array([[1, 1, 0]])"
   ]
  },
  {
   "cell_type": "code",
   "execution_count": 3,
   "id": "38c76d45",
   "metadata": {},
   "outputs": [],
   "source": [
    "def get_label_indices(labels):\n",
    "    \"\"\"\n",
    "    Group samples based on their labels and return indices\n",
    "    @param labels: list of labels\n",
    "    @return: dict, {class1: [indices], class2: [indices]}\n",
    "    \"\"\"\n",
    "    from collections import defaultdict\n",
    "    label_indices = defaultdict(list)\n",
    "    for index, label in enumerate(labels):\n",
    "        label_indices[label].append(index)\n",
    "    return label_indices"
   ]
  },
  {
   "cell_type": "code",
   "execution_count": 4,
   "id": "4141a162",
   "metadata": {},
   "outputs": [
    {
     "name": "stdout",
     "output_type": "stream",
     "text": [
      "label_indices:\n",
      " defaultdict(<class 'list'>, {'Y': [0, 2, 3], 'N': [1]})\n"
     ]
    }
   ],
   "source": [
    "label_indices = get_label_indices(Y_train)\n",
    "print('label_indices:\\n', label_indices)"
   ]
  },
  {
   "cell_type": "code",
   "execution_count": 5,
   "id": "c6b94f65",
   "metadata": {},
   "outputs": [],
   "source": [
    "def get_prior(label_indices):\n",
    "    \"\"\"\n",
    "    Compute prior based on training samples\n",
    "    @param label_indices: grouped sample indices by class\n",
    "    @return: dictionary, with class label as key, corresponding prior as the value\n",
    "    \"\"\"\n",
    "    prior = {label: len(indices) for label, indices in label_indices.items()}\n",
    "    total_count = sum(prior.values())\n",
    "    for label in prior:\n",
    "        prior[label] /= total_count\n",
    "    return prior"
   ]
  },
  {
   "cell_type": "code",
   "execution_count": 6,
   "id": "428ecf6d",
   "metadata": {},
   "outputs": [
    {
     "name": "stdout",
     "output_type": "stream",
     "text": [
      "Prior: {'Y': 0.75, 'N': 0.25}\n"
     ]
    }
   ],
   "source": [
    "prior = get_prior(label_indices)\n",
    "print('Prior:', prior)"
   ]
  },
  {
   "cell_type": "code",
   "execution_count": 7,
   "id": "ed3ba747",
   "metadata": {},
   "outputs": [],
   "source": [
    "def get_likelihood(features, label_indices, smoothing=0):\n",
    "    \"\"\"\n",
    "    Compute likelihood based on training samples\n",
    "    @param features: matrix of features\n",
    "    @param label_indices: grouped sample indices by class\n",
    "    @param smoothing: integer, additive smoothing parameter\n",
    "    @return: dictionary, with class as key, corresponding conditional probability P(feature|class) vector as value\n",
    "    \"\"\"\n",
    "    likelihood = {}\n",
    "    for label, indices in label_indices.items():\n",
    "        likelihood[label] = features[indices, :].sum(axis=0) + smoothing\n",
    "        total_count = len(indices)\n",
    "        likelihood[label] = likelihood[label] / (total_count + 2 * smoothing)\n",
    "    return likelihood"
   ]
  },
  {
   "cell_type": "code",
   "execution_count": 8,
   "id": "e2b56969",
   "metadata": {},
   "outputs": [
    {
     "name": "stdout",
     "output_type": "stream",
     "text": [
      "Likelihood:\n",
      " {'Y': array([0.4, 0.6, 0.4]), 'N': array([0.33333333, 0.33333333, 0.66666667])}\n"
     ]
    }
   ],
   "source": [
    "smoothing = 1\n",
    "likelihood = get_likelihood(X_train, label_indices, smoothing)\n",
    "print('Likelihood:\\n', likelihood)"
   ]
  },
  {
   "cell_type": "code",
   "execution_count": 9,
   "id": "4559a3a2",
   "metadata": {},
   "outputs": [],
   "source": [
    "def get_posterior(X, prior, likelihood):\n",
    "    \"\"\"\n",
    "    Compute posterior of testing samples, based on prior and likelihood\n",
    "    @param X: testing samples\n",
    "    @param prior: dictionary, with class label as key, corresponding prior as the value\n",
    "    @param likelihood: dictionary, with class label as key, corresponding conditional probability vector as value\n",
    "    @return: dictionary, with class label as key, corresponding posterior as value\n",
    "    \"\"\"\n",
    "    posteriors = []\n",
    "    for x in X:\n",
    "        # posterior is proportional to prior * likelihood\n",
    "        posterior = prior.copy()\n",
    "        for label, likelihood_label in likelihood.items():\n",
    "            for index, bool_value in enumerate(x):\n",
    "                posterior[label] *= likelihood_label[index] if bool_value else (1 - likelihood_label[index])\n",
    "        # normalize so that all sums up to 1\n",
    "        sum_posterior = sum(posterior.values())\n",
    "        for label in posterior:\n",
    "            if posterior[label] == float('inf'):\n",
    "                posterior[label] = 1.0\n",
    "            else:\n",
    "                posterior[label] /= sum_posterior\n",
    "        posteriors.append(posterior.copy())\n",
    "    return posteriors\n"
   ]
  },
  {
   "cell_type": "code",
   "execution_count": 10,
   "id": "6c559bfa",
   "metadata": {},
   "outputs": [
    {
     "name": "stdout",
     "output_type": "stream",
     "text": [
      "Posterior:\n",
      " [{'Y': 0.9210360075805433, 'N': 0.07896399241945673}]\n"
     ]
    }
   ],
   "source": [
    "posterior = get_posterior(X_test, prior, likelihood)\n",
    "print('Posterior:\\n', posterior)"
   ]
  },
  {
   "cell_type": "markdown",
   "id": "7e846661",
   "metadata": {},
   "source": [
    "## Implementing Naïve Bayes with scikit-learn "
   ]
  },
  {
   "cell_type": "code",
   "execution_count": 11,
   "id": "8a54b509",
   "metadata": {},
   "outputs": [],
   "source": [
    "from sklearn.naive_bayes import BernoulliNB\n"
   ]
  },
  {
   "cell_type": "code",
   "execution_count": 12,
   "id": "5e33349c",
   "metadata": {},
   "outputs": [
    {
     "data": {
      "text/plain": [
       "BernoulliNB()"
      ]
     },
     "execution_count": 12,
     "metadata": {},
     "output_type": "execute_result"
    }
   ],
   "source": [
    "clf = BernoulliNB(alpha=1.0, fit_prior=True)\n",
    "clf.fit(X_train, Y_train)"
   ]
  },
  {
   "cell_type": "code",
   "execution_count": 13,
   "id": "e8c0835e",
   "metadata": {},
   "outputs": [
    {
     "name": "stdout",
     "output_type": "stream",
     "text": [
      "[scikit-learn] Predicted probabilities:\n",
      " [[0.07896399 0.92103601]]\n"
     ]
    }
   ],
   "source": [
    "pred_prob = clf.predict_proba(X_test)\n",
    "print('[scikit-learn] Predicted probabilities:\\n', pred_prob)\n"
   ]
  },
  {
   "cell_type": "code",
   "execution_count": 14,
   "id": "22e775be",
   "metadata": {},
   "outputs": [
    {
     "name": "stdout",
     "output_type": "stream",
     "text": [
      "[scikit-learn] Prediction: ['Y']\n"
     ]
    }
   ],
   "source": [
    "pred = clf.predict(X_test)\n",
    "print('[scikit-learn] Prediction:', pred)"
   ]
  },
  {
   "cell_type": "markdown",
   "id": "1fe54862",
   "metadata": {},
   "source": [
    "---"
   ]
  },
  {
   "cell_type": "markdown",
   "id": "7e26d248",
   "metadata": {},
   "source": [
    "Readers may ignore the next cell."
   ]
  },
  {
   "cell_type": "code",
   "execution_count": 15,
   "id": "6629bb2c",
   "metadata": {},
   "outputs": [
    {
     "name": "stderr",
     "output_type": "stream",
     "text": [
      "[NbConvertApp] Converting notebook ch2_part1.ipynb to python\n",
      "[NbConvertApp] Writing 3985 bytes to ch2_part1.py\n"
     ]
    }
   ],
   "source": [
    "!jupyter nbconvert --to python ch2_part1.ipynb --TemplateExporter.exclude_input_prompt=True"
   ]
  }
 ],
 "metadata": {
  "kernelspec": {
   "display_name": "Python 3 (ipykernel)",
   "language": "python",
   "name": "python3"
  },
  "language_info": {
   "name": "python"
  }
 },
 "nbformat": 4,
 "nbformat_minor": 5
}
